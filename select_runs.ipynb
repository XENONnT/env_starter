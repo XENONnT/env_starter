{
 "cells": [
  {
   "cell_type": "code",
   "execution_count": 1,
   "metadata": {},
   "outputs": [
    {
     "name": "stderr",
     "output_type": "stream",
     "text": [
      "/project2/lgrandi/xenonnt/software/cutax/v1.19.5/cutax/cut_lists/science.py:28: UserWarning: Removing cut <class 'cutax.cuts.s2_width.S2Width'>\n",
      "  warnings.warn(f\"Removing cut {cut}\", UserWarning)\n",
      "/project2/lgrandi/xenonnt/software/cutax/v1.19.5/cutax/cut_lists/science.py:28: UserWarning: Removing cut <class 'cutax.cuts.s2_width.S2Width'>\n",
      "  warnings.warn(f\"Removing cut {cut}\", UserWarning)\n"
     ]
    }
   ],
   "source": [
    "import cutax\n",
    "import numpy as np\n",
    "import matplotlib.pyplot as plt\n",
    "import pandas as pd"
   ]
  },
  {
   "cell_type": "code",
   "execution_count": 2,
   "metadata": {},
   "outputs": [],
   "source": [
    "output_folder = \"/scratch/midway2/yuem/data_availibility\""
   ]
  },
  {
   "cell_type": "code",
   "execution_count": 3,
   "metadata": {},
   "outputs": [
    {
     "name": "stdout",
     "output_type": "stream",
     "text": [
      "You specified _auto_append_rucio_local=True and you are not on dali compute nodes, so we will add the following rucio local path: /project/lgrandi/rucio/\n"
     ]
    },
    {
     "name": "stderr",
     "output_type": "stream",
     "text": [
      "/opt/XENONnT/anaconda/envs/XENONnT_el7.sr1_wimp_unblind/lib/python3.9/site-packages/straxen/config/preprocessors.py:16: UserWarning: From straxen version 2.1.0 onward, URLConfig parameterswill be sorted alphabetically before being passed to the plugins, this will change the lineage hash for non-sorted URLs. To load data processed with non-sorted URLs, you will need to use an older version.\n",
      "  warnings.warn(\n",
      "Unknown config option xedocs_version; will do nothing.\n",
      "Invalid context option xedocs_version; will do nothing.\n"
     ]
    }
   ],
   "source": [
    "st = cutax.contexts.xenonnt_offline(xedocs_version=\"global_v16\",output_folder=output_folder)"
   ]
  },
  {
   "cell_type": "code",
   "execution_count": 15,
   "metadata": {},
   "outputs": [
    {
     "data": {
      "application/vnd.jupyter.widget-view+json": {
       "model_id": "2a49740a120641d593e7ec8cbcd84b01",
       "version_major": 2,
       "version_minor": 0
      },
      "text/plain": [
       "Checking data availability:   0%|          | 0/2 [00:00<?, ?it/s]"
      ]
     },
     "metadata": {},
     "output_type": "display_data"
    },
    {
     "data": {
      "application/vnd.jupyter.widget-view+json": {
       "model_id": "9addf573368642889d2d5be6c1476de4",
       "version_major": 2,
       "version_minor": 0
      },
      "text/plain": [
       "Checking data availability:   0%|          | 0/2 [00:00<?, ?it/s]"
      ]
     },
     "metadata": {},
     "output_type": "display_data"
    },
    {
     "data": {
      "application/vnd.jupyter.widget-view+json": {
       "model_id": "90abfaef5fe64319a17002dbb00815dd",
       "version_major": 2,
       "version_minor": 0
      },
      "text/plain": [
       "Checking data availability:   0%|          | 0/2 [00:00<?, ?it/s]"
      ]
     },
     "metadata": {},
     "output_type": "display_data"
    },
    {
     "data": {
      "application/vnd.jupyter.widget-view+json": {
       "model_id": "23f1765c659940969d924200cb879708",
       "version_major": 2,
       "version_minor": 0
      },
      "text/plain": [
       "Checking data availability:   0%|          | 0/2 [00:00<?, ?it/s]"
      ]
     },
     "metadata": {},
     "output_type": "display_data"
    }
   ],
   "source": [
    "# SR1a background runs\n",
    "sr1a_bkg_runs = st.select_runs(\n",
    "        run_mode=['*background*','tpc_bkg'],\n",
    "        exclude_tags=['bad', 'messy', 'flash'],\n",
    "        include_tags=['*sr1a*']\n",
    "    )\n",
    "    \n",
    "# SR1b background runs\n",
    "sr1b_bkg_runs = st.select_runs(\n",
    "        run_mode=['*background*','tpc_bkg'],\n",
    "        exclude_tags=['bad', 'messy', 'flash'],\n",
    "        include_tags=['*sr1b*']\n",
    "    )\n",
    "    \n",
    "# SR1 Rn220 runs \n",
    "sr1_rn220_runs = st.select_runs(\n",
    "        run_mode=['tpc_radon','tpc_radon_hev'],\n",
    "        exclude_tags=['bad', 'messy', 'flash'],\n",
    "        include_tags=['*sr1b*']\n",
    "    )\n",
    "    \n",
    "# SR1 Rn222 runs \n",
    "sr1_rn222_runs = st.select_runs(\n",
    "        run_mode=['tpc_radon222'],\n",
    "        exclude_tags=['bad', 'messy', 'flash'],\n",
    "        include_tags=['*sr1b*']\n",
    "    )"
   ]
  },
  {
   "cell_type": "code",
   "execution_count": 5,
   "metadata": {},
   "outputs": [
    {
     "data": {
      "application/vnd.jupyter.widget-view+json": {
       "model_id": "b896af8bd5e3402f8ee8f217b01dc833",
       "version_major": 2,
       "version_minor": 0
      },
      "text/plain": [
       "Checking data availability:   0%|          | 0/2 [00:00<?, ?it/s]"
      ]
     },
     "metadata": {},
     "output_type": "display_data"
    },
    {
     "data": {
      "application/vnd.jupyter.widget-view+json": {
       "model_id": "98570001f3d840bba097157e06b6ea98",
       "version_major": 2,
       "version_minor": 0
      },
      "text/plain": [
       "Checking data availability:   0%|          | 0/2 [00:00<?, ?it/s]"
      ]
     },
     "metadata": {},
     "output_type": "display_data"
    }
   ],
   "source": [
    "sr1a_kr_runs = st.select_runs(\n",
    "        run_mode='tpc_kr83m',\n",
    "        exclude_tags=['bad', 'messy', 'flash'],\n",
    "        include_tags=['*sr1a*']\n",
    "    )\n",
    "\n",
    "sr1b_kr_runs = st.select_runs(\n",
    "        run_mode='tpc_kr83m',\n",
    "        exclude_tags=['bad', 'messy', 'flash'],\n",
    "        include_tags=['*sr1b*']\n",
    "    )"
   ]
  },
  {
   "cell_type": "code",
   "execution_count": 10,
   "metadata": {},
   "outputs": [
    {
     "data": {
      "application/vnd.jupyter.widget-view+json": {
       "model_id": "9bec8352d21e44e78f76bf4550885944",
       "version_major": 2,
       "version_minor": 0
      },
      "text/plain": [
       "Checking data availability:   0%|          | 0/2 [00:00<?, ?it/s]"
      ]
     },
     "metadata": {},
     "output_type": "display_data"
    }
   ],
   "source": [
    "sr1_ambe_runs = st.select_runs(\n",
    "        run_mode='*ambe*',\n",
    "        exclude_tags=['bad', 'messy', 'flash'],\n",
    "        include_tags=['*sr1*']\n",
    "    )"
   ]
  },
  {
   "cell_type": "code",
   "execution_count": 6,
   "metadata": {},
   "outputs": [],
   "source": [
    "from tqdm import tqdm \n",
    "\n",
    "def add_is_stored_info(runlist):\n",
    "    \"\"\"\n",
    "    Add is_stored info to the runlist\n",
    "    \"\"\"\n",
    "    runlist.reset_index(drop=True, inplace=True)\n",
    "    # Create the new columns\n",
    "    runlist.loc[:, 'is_stored_event_basics'] = np.full(len(runlist), False)\n",
    "    runlist.loc[:, 'is_stored_event_area_per_channel'] = np.full(len(runlist), False)\n",
    "    \n",
    "    # Update values using .loc\n",
    "    for i, run in tqdm(enumerate(runlist.name.values)):\n",
    "        if st.is_stored(run, 'event_basics'):\n",
    "            runlist.loc[i, 'is_stored_event_basics'] = True\n",
    "\n",
    "        if st.is_stored(run, 'event_area_per_channel'):\n",
    "            runlist.loc[i, 'is_stored_event_area_per_channel'] = True\n",
    "            \n",
    "def add_load_availibility_info(runlist):\n",
    "    \"\"\"\n",
    "    Add load_availibility info to the runlist\n",
    "    \"\"\"\n",
    "    runlist.reset_index(drop=True, inplace=True)\n",
    "    # Create the new columns\n",
    "    runlist.loc[:, 'load_event_basics'] = np.full(len(runlist), False)\n",
    "    runlist.loc[:, 'load_event_area_per_channel'] = np.full(len(runlist), False)\n",
    "    \n",
    "    # Update values using .loc\n",
    "    for i, run in tqdm(enumerate(runlist.name.values)):\n",
    "        if st.is_stored(run, 'event_basics'):\n",
    "            try:\n",
    "                st.get_array(run, 'event_basics',progress_bar=False)\n",
    "                runlist.loc[i, 'load_event_basics'] = True\n",
    "            except Exception as e:\n",
    "                print(f\"Error loading event_basics for run {run}: {e}\")\n",
    "                runlist.loc[i, 'load_event_basics'] = False\n",
    "\n",
    "        if st.is_stored(run, 'event_area_per_channel'):\n",
    "            try:\n",
    "                st.get_array(run, 'event_area_per_channel',progress_bar=False)\n",
    "                runlist.loc[i, 'load_event_area_per_channel'] = True\n",
    "            except Exception as e:\n",
    "                print(f\"Error loading event_area_per_channel for run {run}: {e}\")\n",
    "                runlist.loc[i, 'load_event_area_per_channel'] = False"
   ]
  },
  {
   "cell_type": "markdown",
   "metadata": {},
   "source": [
    "### Rn220"
   ]
  },
  {
   "cell_type": "code",
   "execution_count": 27,
   "metadata": {},
   "outputs": [
    {
     "data": {
      "text/plain": [
       "179"
      ]
     },
     "execution_count": 27,
     "metadata": {},
     "output_type": "execute_result"
    }
   ],
   "source": [
    "len(sr1_rn220_runs)"
   ]
  },
  {
   "cell_type": "code",
   "execution_count": 29,
   "metadata": {},
   "outputs": [
    {
     "name": "stderr",
     "output_type": "stream",
     "text": [
      "179it [00:07, 25.08it/s]\n"
     ]
    }
   ],
   "source": [
    "add_is_stored_info(sr1_rn220_runs)"
   ]
  },
  {
   "cell_type": "code",
   "execution_count": 37,
   "metadata": {},
   "outputs": [
    {
     "name": "stderr",
     "output_type": "stream",
     "text": [
      "179it [08:43,  2.92s/it]\n"
     ]
    }
   ],
   "source": [
    "add_load_availibility_info(sr1_rn220_runs)"
   ]
  },
  {
   "cell_type": "code",
   "execution_count": 50,
   "metadata": {},
   "outputs": [
    {
     "data": {
      "text/plain": [
       "array(['049841', '049701', '049655', '049610', '049544', '049505',\n",
       "       '049450', '049430'], dtype=object)"
      ]
     },
     "execution_count": 50,
     "metadata": {},
     "output_type": "execute_result"
    }
   ],
   "source": [
    "sr1_rn220_runs[~sr1_rn220_runs.load_event_area_per_channel].name.values"
   ]
  },
  {
   "cell_type": "markdown",
   "metadata": {},
   "source": [
    "### Rn222"
   ]
  },
  {
   "cell_type": "code",
   "execution_count": 42,
   "metadata": {},
   "outputs": [
    {
     "name": "stderr",
     "output_type": "stream",
     "text": [
      "379it [00:20, 18.69it/s]\n",
      "379it [05:18,  1.19it/s]\n"
     ]
    }
   ],
   "source": [
    "add_is_stored_info(sr1_rn222_runs)\n",
    "add_load_availibility_info(sr1_rn222_runs)"
   ]
  },
  {
   "cell_type": "code",
   "execution_count": 43,
   "metadata": {},
   "outputs": [
    {
     "data": {
      "text/plain": [
       "True     351\n",
       "False     28\n",
       "Name: is_stored_event_basics, dtype: int64"
      ]
     },
     "execution_count": 43,
     "metadata": {},
     "output_type": "execute_result"
    }
   ],
   "source": [
    "sr1_rn222_runs.is_stored_event_basics.value_counts()"
   ]
  },
  {
   "cell_type": "code",
   "execution_count": 44,
   "metadata": {},
   "outputs": [
    {
     "data": {
      "text/plain": [
       "True     351\n",
       "False     28\n",
       "Name: is_stored_event_area_per_channel, dtype: int64"
      ]
     },
     "execution_count": 44,
     "metadata": {},
     "output_type": "execute_result"
    }
   ],
   "source": [
    "sr1_rn222_runs.is_stored_event_area_per_channel.value_counts()"
   ]
  },
  {
   "cell_type": "code",
   "execution_count": 52,
   "metadata": {},
   "outputs": [
    {
     "data": {
      "text/plain": [
       "array(['051602', '051341', '051329', '051278', '051266', '051241',\n",
       "       '051215', '051159', '051105', '051089', '051080', '051074',\n",
       "       '051066', '051064', '051063', '051062', '051056', '051052',\n",
       "       '051043', '051039', '051032', '051028', '051020', '051017',\n",
       "       '051004', '050995', '050982', '050972'], dtype=object)"
      ]
     },
     "execution_count": 52,
     "metadata": {},
     "output_type": "execute_result"
    }
   ],
   "source": [
    "sr1_rn222_runs[~sr1_rn222_runs.load_event_basics].name.values"
   ]
  },
  {
   "cell_type": "code",
   "execution_count": 53,
   "metadata": {},
   "outputs": [
    {
     "data": {
      "text/plain": [
       "array(['051602', '051341', '051329', '051278', '051266', '051241',\n",
       "       '051215', '051159', '051105', '051089', '051080', '051074',\n",
       "       '051066', '051064', '051063', '051062', '051056', '051052',\n",
       "       '051043', '051039', '051032', '051028', '051020', '051017',\n",
       "       '051004', '050995', '050982', '050972'], dtype=object)"
      ]
     },
     "execution_count": 53,
     "metadata": {},
     "output_type": "execute_result"
    }
   ],
   "source": [
    "sr1_rn222_runs[~sr1_rn222_runs.load_event_area_per_channel].name.values"
   ]
  },
  {
   "cell_type": "markdown",
   "metadata": {},
   "source": [
    "### AmBe"
   ]
  },
  {
   "cell_type": "code",
   "execution_count": 11,
   "metadata": {},
   "outputs": [
    {
     "name": "stderr",
     "output_type": "stream",
     "text": [
      "167it [00:06, 25.06it/s]\n",
      "167it [04:38,  1.66s/it]\n"
     ]
    }
   ],
   "source": [
    "add_is_stored_info(sr1_ambe_runs)\n",
    "add_load_availibility_info(sr1_ambe_runs)"
   ]
  },
  {
   "cell_type": "code",
   "execution_count": 12,
   "metadata": {},
   "outputs": [
    {
     "data": {
      "text/plain": [
       "array(['051942', '051929', '051926', '051925', '051918', '051912',\n",
       "       '051698', '051380'], dtype=object)"
      ]
     },
     "execution_count": 12,
     "metadata": {},
     "output_type": "execute_result"
    }
   ],
   "source": [
    "sr1_ambe_runs[~sr1_ambe_runs.load_event_basics].name.values"
   ]
  },
  {
   "cell_type": "code",
   "execution_count": 13,
   "metadata": {},
   "outputs": [
    {
     "data": {
      "text/plain": [
       "array(['051942', '051929', '051926', '051925', '051918', '051912',\n",
       "       '051698', '051380'], dtype=object)"
      ]
     },
     "execution_count": 13,
     "metadata": {},
     "output_type": "execute_result"
    }
   ],
   "source": [
    "sr1_ambe_runs[~sr1_ambe_runs.load_event_area_per_channel].name.values"
   ]
  },
  {
   "cell_type": "markdown",
   "metadata": {},
   "source": [
    "### SR1a Kr83m"
   ]
  },
  {
   "cell_type": "code",
   "execution_count": 7,
   "metadata": {},
   "outputs": [
    {
     "name": "stderr",
     "output_type": "stream",
     "text": [
      "222it [00:08, 25.23it/s]\n",
      "222it [10:56,  2.96s/it]\n"
     ]
    }
   ],
   "source": [
    "add_is_stored_info(sr1a_kr_runs)\n",
    "add_load_availibility_info(sr1a_kr_runs)"
   ]
  },
  {
   "cell_type": "code",
   "execution_count": 8,
   "metadata": {},
   "outputs": [
    {
     "data": {
      "text/plain": [
       "array(['048657', '048653', '048648', '048637', '048256', '048234',\n",
       "       '047612', '047596', '047595', '047200', '046793', '046784',\n",
       "       '046778', '043286'], dtype=object)"
      ]
     },
     "execution_count": 8,
     "metadata": {},
     "output_type": "execute_result"
    }
   ],
   "source": [
    "sr1a_kr_runs[~sr1a_kr_runs.load_event_basics].name.values"
   ]
  },
  {
   "cell_type": "code",
   "execution_count": 9,
   "metadata": {},
   "outputs": [
    {
     "data": {
      "text/plain": [
       "array(['048657', '048653', '048648', '048642', '048637', '048262',\n",
       "       '048259', '048256', '048253', '048234', '047612', '047596',\n",
       "       '047595', '047593', '047221', '047206', '047200', '046802',\n",
       "       '046793', '046787', '046784', '046781', '046778', '043301',\n",
       "       '043286', '043271'], dtype=object)"
      ]
     },
     "execution_count": 9,
     "metadata": {},
     "output_type": "execute_result"
    }
   ],
   "source": [
    "sr1a_kr_runs[~sr1a_kr_runs.load_event_area_per_channel].name.values"
   ]
  },
  {
   "cell_type": "markdown",
   "metadata": {},
   "source": [
    "### SR1a BKG"
   ]
  },
  {
   "cell_type": "code",
   "execution_count": 16,
   "metadata": {},
   "outputs": [
    {
     "name": "stderr",
     "output_type": "stream",
     "text": [
      "1763it [00:57, 30.86it/s]\n",
      "1763it [27:54,  1.05it/s]\n"
     ]
    }
   ],
   "source": [
    "add_is_stored_info(sr1a_bkg_runs)\n",
    "add_load_availibility_info(sr1a_bkg_runs)"
   ]
  },
  {
   "cell_type": "code",
   "execution_count": 18,
   "metadata": {},
   "outputs": [
    {
     "data": {
      "text/plain": [
       "array(['048546', '048523', '048522', '048521', '048514', '048513',\n",
       "       '048507', '048490', '048489', '048488', '048487', '048486',\n",
       "       '048485', '048477', '048476', '048475', '048474', '048473',\n",
       "       '048468', '048467', '048466', '048465', '048464', '048463',\n",
       "       '048461', '048460', '048459', '048458', '048457', '048456',\n",
       "       '048455', '048454', '048452', '048451', '047621', '044256'],\n",
       "      dtype=object)"
      ]
     },
     "execution_count": 18,
     "metadata": {},
     "output_type": "execute_result"
    }
   ],
   "source": [
    "sr1a_bkg_runs[~sr1a_bkg_runs.load_event_basics].name.values"
   ]
  },
  {
   "cell_type": "code",
   "execution_count": 19,
   "metadata": {},
   "outputs": [
    {
     "data": {
      "text/plain": [
       "array(['048546', '048523', '048522', '048521', '048514', '048513',\n",
       "       '048507', '048490', '048489', '048488', '048487', '048486',\n",
       "       '048485', '048477', '048476', '048475', '048474', '048473',\n",
       "       '048468', '048467', '048466', '048465', '048464', '048463',\n",
       "       '048461', '048460', '048459', '048458', '048457', '048456',\n",
       "       '048455', '048454', '048452', '048451', '047621', '044256'],\n",
       "      dtype=object)"
      ]
     },
     "execution_count": 19,
     "metadata": {},
     "output_type": "execute_result"
    }
   ],
   "source": [
    "sr1a_bkg_runs[~sr1a_bkg_runs.load_event_area_per_channel].name.values"
   ]
  },
  {
   "cell_type": "markdown",
   "metadata": {},
   "source": [
    "### SR1b BKG"
   ]
  },
  {
   "cell_type": "code",
   "execution_count": 20,
   "metadata": {},
   "outputs": [
    {
     "name": "stderr",
     "output_type": "stream",
     "text": [
      "0it [00:00, ?it/s]"
     ]
    },
    {
     "name": "stderr",
     "output_type": "stream",
     "text": [
      "783it [00:24, 32.53it/s]\n",
      "783it [32:16,  2.47s/it]\n"
     ]
    }
   ],
   "source": [
    "add_is_stored_info(sr1b_bkg_runs)\n",
    "add_load_availibility_info(sr1b_bkg_runs)"
   ]
  },
  {
   "cell_type": "code",
   "execution_count": 25,
   "metadata": {},
   "outputs": [
    {
     "data": {
      "text/plain": [
       "array(['053505', '053504', '053503'], dtype=object)"
      ]
     },
     "execution_count": 25,
     "metadata": {},
     "output_type": "execute_result"
    }
   ],
   "source": [
    "sr1b_bkg_runs[~sr1b_bkg_runs.load_event_basics].name.values"
   ]
  },
  {
   "cell_type": "code",
   "execution_count": 24,
   "metadata": {},
   "outputs": [
    {
     "data": {
      "text/plain": [
       "array(['053505', '053504', '053503', '053502'], dtype=object)"
      ]
     },
     "execution_count": 24,
     "metadata": {},
     "output_type": "execute_result"
    }
   ],
   "source": [
    "sr1b_bkg_runs[~sr1b_bkg_runs.load_event_area_per_channel].name.values"
   ]
  },
  {
   "cell_type": "code",
   "execution_count": null,
   "metadata": {},
   "outputs": [],
   "source": []
  }
 ],
 "metadata": {
  "kernelspec": {
   "display_name": "Python 3",
   "language": "python",
   "name": "python3"
  },
  "language_info": {
   "codemirror_mode": {
    "name": "ipython",
    "version": 3
   },
   "file_extension": ".py",
   "mimetype": "text/x-python",
   "name": "python",
   "nbconvert_exporter": "python",
   "pygments_lexer": "ipython3",
   "version": "3.9.20"
  }
 },
 "nbformat": 4,
 "nbformat_minor": 2
}
